{
 "cells": [
  {
   "cell_type": "code",
   "execution_count": null,
   "metadata": {},
   "outputs": [],
   "source": [
    "import math\n",
    "import csv"
   ]
  },
  {
   "cell_type": "code",
   "execution_count": null,
   "metadata": {},
   "outputs": [],
   "source": [
    "x = 4 * math.pi\n",
    "math.sqrt(2 ** x)"
   ]
  },
  {
   "cell_type": "markdown",
   "metadata": {},
   "source": [
    "This is an example of just text"
   ]
  },
  {
   "cell_type": "markdown",
   "metadata": {},
   "source": [
    "## Cell Types\n",
    "\n",
    "In a different type of cell you can write -\n",
    "\n",
    "* write Markdown\n",
    "* embed LaTeX equations as well\n",
    "\n",
    "So you can add comments within your notebooks - \n",
    "\n",
    "$m = \\frac{m_0}{\\sqrt{1 - v^2/c^2}}$"
   ]
  },
  {
   "cell_type": "markdown",
   "metadata": {},
   "source": [
    "## Two modes\n",
    "\n",
    "* Command Mode\n",
    "* Edit mode"
   ]
  },
  {
   "cell_type": "code",
   "execution_count": null,
   "metadata": {},
   "outputs": [],
   "source": [
    "import requests\n",
    "res = requests.get(\"https://bit.ly/myfoodforthought\")\n",
    "res.content"
   ]
  },
  {
   "cell_type": "markdown",
   "metadata": {},
   "source": [
    "## Basic operations and keystrokes\n",
    "\n",
    "#### Toggling Toolbars\n",
    "\n",
    "* Return and ESC - try it out\n",
    "* 'a' and 'b' for inserting cell before current cell and appending after current cell resp.\n",
    "* x; c; and v; for cutting, copying and pasting cells resp.\n",
    "* 'dd' for deleting cells\n",
    "\n",
    "#### Different Types of returns\n",
    "\n",
    "* Shift-Return/Enter\n",
    "* Ctrl-Return\n",
    "* Alt-Return"
   ]
  },
  {
   "cell_type": "markdown",
   "metadata": {},
   "source": [
    "### Below is the example of merging cells"
   ]
  },
  {
   "cell_type": "code",
   "execution_count": null,
   "metadata": {},
   "outputs": [],
   "source": [
    "'hello' + 'world'"
   ]
  },
  {
   "cell_type": "code",
   "execution_count": null,
   "metadata": {},
   "outputs": [],
   "source": [
    "x = 2\n",
    "\n",
    "y = 2\n",
    "\n",
    "x + y"
   ]
  },
  {
   "cell_type": "markdown",
   "metadata": {},
   "source": [
    "## You can also load existing code in the directory\n",
    "\n",
    "All you have to do is - `%load <name of pythonfile>`.\n",
    "\n",
    "Note that it should be a `.py` file rather than a `.ipynb` file."
   ]
  },
  {
   "cell_type": "code",
   "execution_count": null,
   "metadata": {},
   "outputs": [],
   "source": [
    "# %load Sun,Earth,Moon.py #<---- Uncomment this line to see the example-------#"
   ]
  },
  {
   "cell_type": "markdown",
   "metadata": {},
   "source": [
    "## Sharing your Notebooks\n",
    "\n",
    "One can share the `.ipynb` files directly or even save them in version control (e.g. GitHub or GitLab). But there are many other ways as well - \n",
    "\n",
    "* Using `nbconvert` - e.g.  convert to static HTML, LaTeX, PDF, Python Scripts, etc. \n",
    "* `nbviewer` - https://nbviewer.jupyter.org\n",
    "* **binder** - Take a github repo with the notebooks and run in Docker session at https://mybinder.org \n",
    "* **jupyterhub** - run locally to make it available for your team."
   ]
  },
  {
   "cell_type": "markdown",
   "metadata": {},
   "source": [
    "## Kernel Settings\n",
    "\n",
    "The running Python environment is determined by the kernel settings and not on the `venv` or python version installed on your system."
   ]
  },
  {
   "cell_type": "code",
   "execution_count": null,
   "metadata": {},
   "outputs": [],
   "source": [
    "!which python # This finds my local python environment or version"
   ]
  },
  {
   "cell_type": "code",
   "execution_count": null,
   "metadata": {},
   "outputs": [],
   "source": [
    "import sys\n",
    "sys.executable # This gives the python version that is being used in this Notebook"
   ]
  },
  {
   "cell_type": "markdown",
   "metadata": {},
   "source": [
    "**Also note that it is note necessary that you can run Jupyter notebooks using Python only. There is support for other Languages such as [Julia](https://julialang.org) and [Ruby](https://www.ruby-lang.org/), etc.**"
   ]
  },
  {
   "cell_type": "markdown",
   "metadata": {},
   "source": [
    "#### If the runtime environments are not the same in the outputs obtained from the above cells then you can't/shouldn't install packages using terminal commands like - "
   ]
  },
  {
   "cell_type": "code",
   "execution_count": null,
   "metadata": {},
   "outputs": [],
   "source": [
    "!pip install numpy # Do not execute if in doubt"
   ]
  },
  {
   "cell_type": "markdown",
   "metadata": {},
   "source": [
    "**The safest way of installing packages within a notebook is to run-**"
   ]
  },
  {
   "cell_type": "code",
   "execution_count": null,
   "metadata": {},
   "outputs": [],
   "source": [
    "!{sys.executable} -m pip install numpy"
   ]
  }
 ],
 "metadata": {
  "kernelspec": {
   "display_name": "Python 3",
   "language": "python",
   "name": "python3"
  },
  "language_info": {
   "codemirror_mode": {
    "name": "ipython",
    "version": 3
   },
   "file_extension": ".py",
   "mimetype": "text/x-python",
   "name": "python",
   "nbconvert_exporter": "python",
   "pygments_lexer": "ipython3",
   "version": "3.7.3"
  }
 },
 "nbformat": 4,
 "nbformat_minor": 2
}
