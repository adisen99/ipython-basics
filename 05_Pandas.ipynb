{
 "cells": [
  {
   "cell_type": "markdown",
   "metadata": {},
   "source": [
    "# Pandas Continued with specific application\n",
    "\n",
    "The data used here is obtained from the [National Seismological Centre (NSC) database](https://seismonepal.gov.np/earthquakes/) and it is the data for the earthquakes in Nepal from 1990 to 2020. A relativily small database for measurement of some important aspects of Earthquaks in Nepal. The following is the source code for data extraction and cleaning"
   ]
  },
  {
   "cell_type": "code",
   "execution_count": 50,
   "metadata": {},
   "outputs": [],
   "source": [
    "import pandas as pd \n",
    "import requests\n",
    "import numpy as np\n",
    "import seaborn as sns\n",
    "import matplotlib.pyplot as plt\n",
    "import scipy.stats as stats\n",
    "plt.style.use('seaborn-pastel')\n",
    "\n",
    "import geopandas as gpd\n",
    "from descartes import PolygonPatch\n",
    "from matplotlib.animation import FuncAnimation\n",
    "# from matplotlib.patches import Polygon"
   ]
  },
  {
   "cell_type": "code",
   "execution_count": 51,
   "metadata": {},
   "outputs": [],
   "source": [
    "#Function to fetch table to data\n",
    "def fetch_data_from_url(url):\n",
    "    #gets the page content from the url \n",
    "    html = requests.get(url).content\n",
    "    #read the table content of html \n",
    "    df_list = pd.read_html(html)\n",
    "    #targets the first table from the list of table\n",
    "    df = df_list[0]\n",
    "    df.index += 1 \n",
    "    return df"
   ]
  },
  {
   "cell_type": "code",
   "execution_count": 52,
   "metadata": {},
   "outputs": [],
   "source": [
    "#a better way to do this \n",
    "urls = [\"http://seismonepal.gov.np/earthquakes/1994\",\n",
    "       \"http://seismonepal.gov.np/earthquakes/1995\",\n",
    "       \"http://seismonepal.gov.np/earthquakes/1996\",\n",
    "       \"http://seismonepal.gov.np/earthquakes/1997\",\n",
    "       \"http://seismonepal.gov.np/earthquakes/1998\",\n",
    "       \"http://seismonepal.gov.np/earthquakes/1999\",\n",
    "       \"http://seismonepal.gov.np/earthquakes/2000\",\n",
    "       \"http://seismonepal.gov.np/earthquakes/2001\",\n",
    "       \"http://seismonepal.gov.np/earthquakes/2002\",\n",
    "       \"http://seismonepal.gov.np/earthquakes/2003\",\n",
    "       \"http://seismonepal.gov.np/earthquakes/2004\",\n",
    "       \"http://seismonepal.gov.np/earthquakes/2005\",\n",
    "       \"http://seismonepal.gov.np/earthquakes/2006\",\n",
    "       \"http://seismonepal.gov.np/earthquakes/2007\",\n",
    "       \"http://seismonepal.gov.np/earthquakes/2008\",\n",
    "       \"http://seismonepal.gov.np/earthquakes/2009\",\n",
    "       \"http://seismonepal.gov.np/earthquakes/2010\",\n",
    "       \"http://seismonepal.gov.np/earthquakes/2011\",\n",
    "       \"http://seismonepal.gov.np/earthquakes/2012\",\n",
    "       \"http://seismonepal.gov.np/earthquakes/2013\",\n",
    "       \"http://seismonepal.gov.np/earthquakes/2014\",\n",
    "       \"http://seismonepal.gov.np/earthquakes/2015\",\n",
    "       \"http://seismonepal.gov.np/earthquakes/2016\",\n",
    "       \"http://seismonepal.gov.np/earthquakes/2017\",\n",
    "       \"http://seismonepal.gov.np/earthquakes/2018\",\n",
    "       \"http://seismonepal.gov.np/earthquakes/2019\",\n",
    "       \"http://seismonepal.gov.np/earthquakes/2020\"]\n",
    "\n",
    "#getting all the data from 1994-2020 in one place     \n",
    "result = []\n",
    "for url in urls:\n",
    "    result.append(fetch_data_from_url(url))"
   ]
  },
  {
   "cell_type": "code",
   "execution_count": 53,
   "metadata": {},
   "outputs": [],
   "source": [
    "#concatenate all the table from result array to one dataframe\n",
    "df = pd.concat(result)"
   ]
  },
  {
   "cell_type": "code",
   "execution_count": 54,
   "metadata": {},
   "outputs": [],
   "source": [
    "df = df.reset_index()"
   ]
  },
  {
   "cell_type": "code",
   "execution_count": 55,
   "metadata": {},
   "outputs": [
    {
     "data": {
      "text/plain": [
       "Index(['index', 'Date', 'Time', 'Latitude', 'Longitude', 'Magnitude(ML)',\n",
       "       'Remarks', 'Epicenter', 'Form'],\n",
       "      dtype='object')"
      ]
     },
     "execution_count": 55,
     "metadata": {},
     "output_type": "execute_result"
    }
   ],
   "source": [
    "df.columns"
   ]
  },
  {
   "cell_type": "code",
   "execution_count": 56,
   "metadata": {},
   "outputs": [],
   "source": [
    "#dropping the un-necessary columns\n",
    "df = df.drop(['Form','Remarks','index'],axis = 1)"
   ]
  },
  {
   "cell_type": "code",
   "execution_count": 57,
   "metadata": {},
   "outputs": [],
   "source": [
    "df.columns = ['Date', 'Time', 'Lat', 'Long', 'Magnitude', \"Epicenter\"]"
   ]
  },
  {
   "cell_type": "code",
   "execution_count": 58,
   "metadata": {},
   "outputs": [
    {
     "data": {
      "text/html": [
       "<div>\n",
       "<style scoped>\n",
       "    .dataframe tbody tr th:only-of-type {\n",
       "        vertical-align: middle;\n",
       "    }\n",
       "\n",
       "    .dataframe tbody tr th {\n",
       "        vertical-align: top;\n",
       "    }\n",
       "\n",
       "    .dataframe thead th {\n",
       "        text-align: right;\n",
       "    }\n",
       "</style>\n",
       "<table border=\"1\" class=\"dataframe\">\n",
       "  <thead>\n",
       "    <tr style=\"text-align: right;\">\n",
       "      <th></th>\n",
       "      <th>Date</th>\n",
       "      <th>Time</th>\n",
       "      <th>Lat</th>\n",
       "      <th>Long</th>\n",
       "      <th>Magnitude</th>\n",
       "      <th>Epicenter</th>\n",
       "    </tr>\n",
       "  </thead>\n",
       "  <tbody>\n",
       "    <tr>\n",
       "      <th>0</th>\n",
       "      <td>B.S:2051-8-28 A.D:1994-12-13</td>\n",
       "      <td>Local:11:00UTC:N/A</td>\n",
       "      <td>28.70</td>\n",
       "      <td>82.88</td>\n",
       "      <td>4.6</td>\n",
       "      <td>Rukum</td>\n",
       "    </tr>\n",
       "    <tr>\n",
       "      <th>1</th>\n",
       "      <td>B.S:2051-8-27 A.D:1994-12-12</td>\n",
       "      <td>Local:11:00UTC:N/A</td>\n",
       "      <td>29.84</td>\n",
       "      <td>80.69</td>\n",
       "      <td>4.6</td>\n",
       "      <td>Darchula</td>\n",
       "    </tr>\n",
       "    <tr>\n",
       "      <th>2</th>\n",
       "      <td>B.S:2051-8-12 A.D:1994-11-27</td>\n",
       "      <td>Local:11:00UTC:N/A</td>\n",
       "      <td>29.72</td>\n",
       "      <td>81.56</td>\n",
       "      <td>4.5</td>\n",
       "      <td>Bajura</td>\n",
       "    </tr>\n",
       "    <tr>\n",
       "      <th>3</th>\n",
       "      <td>B.S:2051-8-6 A.D:1994-11-21</td>\n",
       "      <td>Local:11:00UTC:N/A</td>\n",
       "      <td>29.54</td>\n",
       "      <td>81.15</td>\n",
       "      <td>4.2</td>\n",
       "      <td>Bajhang</td>\n",
       "    </tr>\n",
       "    <tr>\n",
       "      <th>4</th>\n",
       "      <td>B.S:2051-7-8 A.D:1994-10-24</td>\n",
       "      <td>Local:11:00UTC:N/A</td>\n",
       "      <td>28.92</td>\n",
       "      <td>82.00</td>\n",
       "      <td>4.7</td>\n",
       "      <td>Jajarkot</td>\n",
       "    </tr>\n",
       "  </tbody>\n",
       "</table>\n",
       "</div>"
      ],
      "text/plain": [
       "                           Date                Time    Lat   Long  Magnitude  \\\n",
       "0  B.S:2051-8-28 A.D:1994-12-13  Local:11:00UTC:N/A  28.70  82.88        4.6   \n",
       "1  B.S:2051-8-27 A.D:1994-12-12  Local:11:00UTC:N/A  29.84  80.69        4.6   \n",
       "2  B.S:2051-8-12 A.D:1994-11-27  Local:11:00UTC:N/A  29.72  81.56        4.5   \n",
       "3   B.S:2051-8-6 A.D:1994-11-21  Local:11:00UTC:N/A  29.54  81.15        4.2   \n",
       "4   B.S:2051-7-8 A.D:1994-10-24  Local:11:00UTC:N/A  28.92  82.00        4.7   \n",
       "\n",
       "  Epicenter  \n",
       "0     Rukum  \n",
       "1  Darchula  \n",
       "2    Bajura  \n",
       "3   Bajhang  \n",
       "4  Jajarkot  "
      ]
     },
     "execution_count": 58,
     "metadata": {},
     "output_type": "execute_result"
    }
   ],
   "source": [
    "df.head()"
   ]
  },
  {
   "cell_type": "code",
   "execution_count": 59,
   "metadata": {},
   "outputs": [],
   "source": [
    "#change the Date column to a proper format(removing the nepali date) (NOT NECESSARY)\n",
    "dates = []\n",
    "for line in df.Date:\n",
    "#   Split the two dates given \n",
    "    date = line.split()\n",
    "    date = line.split(\":\")\n",
    "    del date[:2]\n",
    "    dates.append(date)"
   ]
  },
  {
   "cell_type": "code",
   "execution_count": 60,
   "metadata": {},
   "outputs": [],
   "source": [
    "# Change the Time column to standard format\n",
    "Times = []\n",
    "for line in df.Time:\n",
    "    Time = line.split(\"Local:\")  \n",
    "    del Time[0]\n",
    "    for time_line in Time:\n",
    "        Time = time_line.split('UTC:')\n",
    "        del Time[1]\n",
    "#         print(Time)\n",
    "    Times.append(Time)"
   ]
  },
  {
   "cell_type": "code",
   "execution_count": 61,
   "metadata": {},
   "outputs": [],
   "source": [
    "#Covert the date and time column to pandas dataframe\n",
    "Times = pd.DataFrame(Times)\n",
    "Times.columns =['Time']\n",
    "Dates = pd.DataFrame(dates)\n",
    "Dates.columns=['Date']"
   ]
  },
  {
   "cell_type": "code",
   "execution_count": 62,
   "metadata": {},
   "outputs": [],
   "source": [
    "# Concatenate the date and time dataframe together separated by space\n",
    "Dates['DateTime'] = Dates[\"Date\"]+ \" \" + Times[\"Time\"].map(str)"
   ]
  },
  {
   "cell_type": "code",
   "execution_count": 63,
   "metadata": {},
   "outputs": [
    {
     "data": {
      "text/plain": [
       "1008"
      ]
     },
     "execution_count": 63,
     "metadata": {},
     "output_type": "execute_result"
    }
   ],
   "source": [
    "len(Dates)"
   ]
  },
  {
   "cell_type": "code",
   "execution_count": 64,
   "metadata": {},
   "outputs": [],
   "source": [
    "# checking to see if the two dates in the two dataframe match\n",
    "test = pd.DataFrame({'x':Dates.DateTime, 'y':df.Date})"
   ]
  },
  {
   "cell_type": "code",
   "execution_count": 65,
   "metadata": {},
   "outputs": [],
   "source": [
    "#Convert the DateTime column to datetime type\n",
    "Dates['DateTime'] = pd.to_datetime(Dates['DateTime'],  errors='coerce')"
   ]
  },
  {
   "cell_type": "code",
   "execution_count": 66,
   "metadata": {},
   "outputs": [],
   "source": [
    "# Merge the datetime column to the main dataframe\n",
    "df['DateTime'] = Dates['DateTime']"
   ]
  },
  {
   "cell_type": "code",
   "execution_count": 67,
   "metadata": {},
   "outputs": [],
   "source": [
    "#Drop the columns not required\n",
    "df = df.drop(['Date','Time'],axis = 1)"
   ]
  },
  {
   "cell_type": "code",
   "execution_count": 68,
   "metadata": {},
   "outputs": [
    {
     "data": {
      "text/html": [
       "<div>\n",
       "<style scoped>\n",
       "    .dataframe tbody tr th:only-of-type {\n",
       "        vertical-align: middle;\n",
       "    }\n",
       "\n",
       "    .dataframe tbody tr th {\n",
       "        vertical-align: top;\n",
       "    }\n",
       "\n",
       "    .dataframe thead th {\n",
       "        text-align: right;\n",
       "    }\n",
       "</style>\n",
       "<table border=\"1\" class=\"dataframe\">\n",
       "  <thead>\n",
       "    <tr style=\"text-align: right;\">\n",
       "      <th></th>\n",
       "      <th>Lat</th>\n",
       "      <th>Long</th>\n",
       "      <th>Magnitude</th>\n",
       "      <th>Epicenter</th>\n",
       "      <th>DateTime</th>\n",
       "    </tr>\n",
       "  </thead>\n",
       "  <tbody>\n",
       "    <tr>\n",
       "      <th>0</th>\n",
       "      <td>28.70</td>\n",
       "      <td>82.88</td>\n",
       "      <td>4.6</td>\n",
       "      <td>Rukum</td>\n",
       "      <td>1994-12-13 11:00:00</td>\n",
       "    </tr>\n",
       "    <tr>\n",
       "      <th>1</th>\n",
       "      <td>29.84</td>\n",
       "      <td>80.69</td>\n",
       "      <td>4.6</td>\n",
       "      <td>Darchula</td>\n",
       "      <td>1994-12-12 11:00:00</td>\n",
       "    </tr>\n",
       "    <tr>\n",
       "      <th>2</th>\n",
       "      <td>29.72</td>\n",
       "      <td>81.56</td>\n",
       "      <td>4.5</td>\n",
       "      <td>Bajura</td>\n",
       "      <td>1994-11-27 11:00:00</td>\n",
       "    </tr>\n",
       "    <tr>\n",
       "      <th>3</th>\n",
       "      <td>29.54</td>\n",
       "      <td>81.15</td>\n",
       "      <td>4.2</td>\n",
       "      <td>Bajhang</td>\n",
       "      <td>1994-11-21 11:00:00</td>\n",
       "    </tr>\n",
       "    <tr>\n",
       "      <th>4</th>\n",
       "      <td>28.92</td>\n",
       "      <td>82.00</td>\n",
       "      <td>4.7</td>\n",
       "      <td>Jajarkot</td>\n",
       "      <td>1994-10-24 11:00:00</td>\n",
       "    </tr>\n",
       "  </tbody>\n",
       "</table>\n",
       "</div>"
      ],
      "text/plain": [
       "     Lat   Long  Magnitude Epicenter            DateTime\n",
       "0  28.70  82.88        4.6     Rukum 1994-12-13 11:00:00\n",
       "1  29.84  80.69        4.6  Darchula 1994-12-12 11:00:00\n",
       "2  29.72  81.56        4.5    Bajura 1994-11-27 11:00:00\n",
       "3  29.54  81.15        4.2   Bajhang 1994-11-21 11:00:00\n",
       "4  28.92  82.00        4.7  Jajarkot 1994-10-24 11:00:00"
      ]
     },
     "execution_count": 68,
     "metadata": {},
     "output_type": "execute_result"
    }
   ],
   "source": [
    "df.head()"
   ]
  },
  {
   "cell_type": "code",
   "execution_count": 69,
   "metadata": {},
   "outputs": [],
   "source": [
    "df = df.sort_values(by='DateTime')"
   ]
  },
  {
   "cell_type": "code",
   "execution_count": 70,
   "metadata": {},
   "outputs": [],
   "source": [
    "df = df.reset_index()"
   ]
  },
  {
   "cell_type": "code",
   "execution_count": 71,
   "metadata": {},
   "outputs": [
    {
     "name": "stdout",
     "output_type": "stream",
     "text": [
      "(array([25]), array([4]))\n",
      "(array([101, 102, 108]),)\n",
      "(array([  28,   41,   47,   56,   57,   98,  167,  259,  382,  977, 1003]),)\n",
      "(array([139, 140, 141]),)\n"
     ]
    },
    {
     "data": {
      "text/html": [
       "<div>\n",
       "<style scoped>\n",
       "    .dataframe tbody tr th:only-of-type {\n",
       "        vertical-align: middle;\n",
       "    }\n",
       "\n",
       "    .dataframe tbody tr th {\n",
       "        vertical-align: top;\n",
       "    }\n",
       "\n",
       "    .dataframe thead th {\n",
       "        text-align: right;\n",
       "    }\n",
       "</style>\n",
       "<table border=\"1\" class=\"dataframe\">\n",
       "  <thead>\n",
       "    <tr style=\"text-align: right;\">\n",
       "      <th></th>\n",
       "      <th>index</th>\n",
       "      <th>Lat</th>\n",
       "      <th>Long</th>\n",
       "      <th>Magnitude</th>\n",
       "      <th>Epicenter</th>\n",
       "      <th>DateTime</th>\n",
       "    </tr>\n",
       "  </thead>\n",
       "  <tbody>\n",
       "    <tr>\n",
       "      <th>124</th>\n",
       "      <td>118</td>\n",
       "      <td>28.47</td>\n",
       "      <td>83.91</td>\n",
       "      <td>5.0</td>\n",
       "      <td>Kaski</td>\n",
       "      <td>2003-11-22 11:00:00</td>\n",
       "    </tr>\n",
       "    <tr>\n",
       "      <th>125</th>\n",
       "      <td>117</td>\n",
       "      <td>28.30</td>\n",
       "      <td>83.88</td>\n",
       "      <td>4.4</td>\n",
       "      <td>Kaski</td>\n",
       "      <td>2003-11-23 11:00:00</td>\n",
       "    </tr>\n",
       "    <tr>\n",
       "      <th>126</th>\n",
       "      <td>116</td>\n",
       "      <td>28.45</td>\n",
       "      <td>83.94</td>\n",
       "      <td>4.5</td>\n",
       "      <td>Kaski</td>\n",
       "      <td>2003-11-23 11:00:00</td>\n",
       "    </tr>\n",
       "  </tbody>\n",
       "</table>\n",
       "</div>"
      ],
      "text/plain": [
       "     index    Lat   Long  Magnitude Epicenter            DateTime\n",
       "124    118  28.47  83.91        5.0     Kaski 2003-11-22 11:00:00\n",
       "125    117  28.30  83.88        4.4     Kaski 2003-11-23 11:00:00\n",
       "126    116  28.45  83.94        4.5     Kaski 2003-11-23 11:00:00"
      ]
     },
     "execution_count": 71,
     "metadata": {},
     "output_type": "execute_result"
    }
   ],
   "source": [
    "#Check where data is null\n",
    "print(np.where(pd.isnull(df)))\n",
    "print(np.where(df.Epicenter == \"Kailali\"))\n",
    "print(np.where(df.Epicenter == \"Solukhumbu\"))\n",
    "print(np.where(df.Epicenter == \"Niseldhar, Baglung\"))\n",
    "df[124:127]"
   ]
  },
  {
   "cell_type": "code",
   "execution_count": 72,
   "metadata": {},
   "outputs": [
    {
     "name": "stderr",
     "output_type": "stream",
     "text": [
      "/usr/lib/python3/dist-packages/ipykernel_launcher.py:2: SettingWithCopyWarning: \n",
      "A value is trying to be set on a copy of a slice from a DataFrame\n",
      "\n",
      "See the caveats in the documentation: http://pandas.pydata.org/pandas-docs/stable/indexing.html#indexing-view-versus-copy\n",
      "  \n",
      "/usr/lib/python3/dist-packages/ipykernel_launcher.py:4: SettingWithCopyWarning: \n",
      "A value is trying to be set on a copy of a slice from a DataFrame\n",
      "\n",
      "See the caveats in the documentation: http://pandas.pydata.org/pandas-docs/stable/indexing.html#indexing-view-versus-copy\n",
      "  after removing the cwd from sys.path.\n",
      "/usr/lib/python3/dist-packages/ipykernel_launcher.py:5: SettingWithCopyWarning: \n",
      "A value is trying to be set on a copy of a slice from a DataFrame\n",
      "\n",
      "See the caveats in the documentation: http://pandas.pydata.org/pandas-docs/stable/indexing.html#indexing-view-versus-copy\n",
      "  \"\"\"\n",
      "/usr/lib/python3/dist-packages/ipykernel_launcher.py:6: SettingWithCopyWarning: \n",
      "A value is trying to be set on a copy of a slice from a DataFrame\n",
      "\n",
      "See the caveats in the documentation: http://pandas.pydata.org/pandas-docs/stable/indexing.html#indexing-view-versus-copy\n",
      "  \n"
     ]
    }
   ],
   "source": [
    "# Converted the empty to India because the coordianted were in India, one of the Kailali coordiantes was wrong\n",
    "df.Epicenter[25]=\"India\"\n",
    "np.where(df.Epicenter == \"Kailali\")\n",
    "df.Long[108] = 80.75\n",
    "df.Long[167] = 86.842\n",
    "df.Long[139] = 82.96"
   ]
  },
  {
   "cell_type": "code",
   "execution_count": 73,
   "metadata": {},
   "outputs": [],
   "source": [
    "#Drop any row with epicenters outside Nepal\n",
    "check = ['India',\"Bangladesh\",\"Bhuj/India\",\"Bhutan\",\"Chamauli/India\",\"Tibet\",\"Bangaladesh\",\"Pithoragarh\",\"Sikkim\"\n",
    "        ,\"India (close to Darchula)\", \"Jhapa-India Border Region\"]\n",
    "\n",
    "for place in check:\n",
    "    for epicenter in df.Epicenter:\n",
    "        df = df[df.Epicenter != place]"
   ]
  },
  {
   "cell_type": "code",
   "execution_count": 74,
   "metadata": {},
   "outputs": [
    {
     "data": {
      "text/html": [
       "<div>\n",
       "<style scoped>\n",
       "    .dataframe tbody tr th:only-of-type {\n",
       "        vertical-align: middle;\n",
       "    }\n",
       "\n",
       "    .dataframe tbody tr th {\n",
       "        vertical-align: top;\n",
       "    }\n",
       "\n",
       "    .dataframe thead th {\n",
       "        text-align: right;\n",
       "    }\n",
       "</style>\n",
       "<table border=\"1\" class=\"dataframe\">\n",
       "  <thead>\n",
       "    <tr style=\"text-align: right;\">\n",
       "      <th></th>\n",
       "      <th>index</th>\n",
       "      <th>Lat</th>\n",
       "      <th>Long</th>\n",
       "      <th>Magnitude</th>\n",
       "      <th>Epicenter</th>\n",
       "      <th>DateTime</th>\n",
       "    </tr>\n",
       "  </thead>\n",
       "  <tbody>\n",
       "    <tr>\n",
       "      <th>0</th>\n",
       "      <td>9</td>\n",
       "      <td>27.75</td>\n",
       "      <td>86.16</td>\n",
       "      <td>5.1</td>\n",
       "      <td>Dolakha</td>\n",
       "      <td>1994-06-25 05:45:00</td>\n",
       "    </tr>\n",
       "    <tr>\n",
       "      <th>1</th>\n",
       "      <td>8</td>\n",
       "      <td>29.37</td>\n",
       "      <td>81.52</td>\n",
       "      <td>5.5</td>\n",
       "      <td>Bajura</td>\n",
       "      <td>1994-07-17 11:00:00</td>\n",
       "    </tr>\n",
       "    <tr>\n",
       "      <th>3</th>\n",
       "      <td>6</td>\n",
       "      <td>28.34</td>\n",
       "      <td>87.35</td>\n",
       "      <td>4.8</td>\n",
       "      <td>Sankhuwasabha</td>\n",
       "      <td>1994-09-25 11:00:00</td>\n",
       "    </tr>\n",
       "    <tr>\n",
       "      <th>4</th>\n",
       "      <td>5</td>\n",
       "      <td>29.00</td>\n",
       "      <td>82.26</td>\n",
       "      <td>4.6</td>\n",
       "      <td>Jajarkot</td>\n",
       "      <td>1994-10-22 11:00:00</td>\n",
       "    </tr>\n",
       "    <tr>\n",
       "      <th>5</th>\n",
       "      <td>4</td>\n",
       "      <td>28.92</td>\n",
       "      <td>82.00</td>\n",
       "      <td>4.7</td>\n",
       "      <td>Jajarkot</td>\n",
       "      <td>1994-10-24 11:00:00</td>\n",
       "    </tr>\n",
       "  </tbody>\n",
       "</table>\n",
       "</div>"
      ],
      "text/plain": [
       "   index    Lat   Long  Magnitude      Epicenter            DateTime\n",
       "0      9  27.75  86.16        5.1        Dolakha 1994-06-25 05:45:00\n",
       "1      8  29.37  81.52        5.5         Bajura 1994-07-17 11:00:00\n",
       "3      6  28.34  87.35        4.8  Sankhuwasabha 1994-09-25 11:00:00\n",
       "4      5  29.00  82.26        4.6       Jajarkot 1994-10-22 11:00:00\n",
       "5      4  28.92  82.00        4.7       Jajarkot 1994-10-24 11:00:00"
      ]
     },
     "execution_count": 74,
     "metadata": {},
     "output_type": "execute_result"
    }
   ],
   "source": [
    "df.head()"
   ]
  },
  {
   "cell_type": "code",
   "execution_count": 75,
   "metadata": {},
   "outputs": [],
   "source": [
    "df.to_csv('earthquake.csv')"
   ]
  },
  {
   "cell_type": "code",
   "execution_count": 76,
   "metadata": {},
   "outputs": [
    {
     "data": {
      "text/html": [
       "<div>\n",
       "<style scoped>\n",
       "    .dataframe tbody tr th:only-of-type {\n",
       "        vertical-align: middle;\n",
       "    }\n",
       "\n",
       "    .dataframe tbody tr th {\n",
       "        vertical-align: top;\n",
       "    }\n",
       "\n",
       "    .dataframe thead th {\n",
       "        text-align: right;\n",
       "    }\n",
       "</style>\n",
       "<table border=\"1\" class=\"dataframe\">\n",
       "  <thead>\n",
       "    <tr style=\"text-align: right;\">\n",
       "      <th></th>\n",
       "      <th>index</th>\n",
       "      <th>Lat</th>\n",
       "      <th>Long</th>\n",
       "      <th>Magnitude</th>\n",
       "      <th>Epicenter</th>\n",
       "      <th>DateTime</th>\n",
       "    </tr>\n",
       "  </thead>\n",
       "  <tbody>\n",
       "    <tr>\n",
       "      <th>154</th>\n",
       "      <td>171</td>\n",
       "      <td>27.76</td>\n",
       "      <td>86.07</td>\n",
       "      <td>5.0</td>\n",
       "      <td>Dolakha</td>\n",
       "      <td>2005-02-08 11:00:00</td>\n",
       "    </tr>\n",
       "    <tr>\n",
       "      <th>155</th>\n",
       "      <td>170</td>\n",
       "      <td>28.27</td>\n",
       "      <td>84.39</td>\n",
       "      <td>5.0</td>\n",
       "      <td>Lamjung</td>\n",
       "      <td>2005-03-05 11:00:00</td>\n",
       "    </tr>\n",
       "    <tr>\n",
       "      <th>156</th>\n",
       "      <td>169</td>\n",
       "      <td>28.25</td>\n",
       "      <td>84.39</td>\n",
       "      <td>5.4</td>\n",
       "      <td>Lamjung</td>\n",
       "      <td>2005-03-19 11:00:00</td>\n",
       "    </tr>\n",
       "  </tbody>\n",
       "</table>\n",
       "</div>"
      ],
      "text/plain": [
       "     index    Lat   Long  Magnitude Epicenter            DateTime\n",
       "154    171  27.76  86.07        5.0   Dolakha 2005-02-08 11:00:00\n",
       "155    170  28.27  84.39        5.0   Lamjung 2005-03-05 11:00:00\n",
       "156    169  28.25  84.39        5.4   Lamjung 2005-03-19 11:00:00"
      ]
     },
     "execution_count": 76,
     "metadata": {},
     "output_type": "execute_result"
    }
   ],
   "source": [
    "df[139:142]"
   ]
  },
  {
   "cell_type": "markdown",
   "metadata": {},
   "source": [
    "#### More often than not, earthquake data obtained from international catalogues such as the [International Seismological Center (ISC) Catalogue](http://www.isc.ac.uk/iscbulletin/search/bulletin/) are often already cleaned up data and only require minor tweaking."
   ]
  },
  {
   "cell_type": "markdown",
   "metadata": {},
   "source": [
    "### Now we move onto the Analysis"
   ]
  },
  {
   "cell_type": "code",
   "execution_count": 77,
   "metadata": {},
   "outputs": [],
   "source": [
    "df = pd.read_csv('earthquake.csv')"
   ]
  },
  {
   "cell_type": "code",
   "execution_count": 78,
   "metadata": {},
   "outputs": [
    {
     "data": {
      "text/html": [
       "<div>\n",
       "<style scoped>\n",
       "    .dataframe tbody tr th:only-of-type {\n",
       "        vertical-align: middle;\n",
       "    }\n",
       "\n",
       "    .dataframe tbody tr th {\n",
       "        vertical-align: top;\n",
       "    }\n",
       "\n",
       "    .dataframe thead th {\n",
       "        text-align: right;\n",
       "    }\n",
       "</style>\n",
       "<table border=\"1\" class=\"dataframe\">\n",
       "  <thead>\n",
       "    <tr style=\"text-align: right;\">\n",
       "      <th></th>\n",
       "      <th>Unnamed: 0</th>\n",
       "      <th>index</th>\n",
       "      <th>Lat</th>\n",
       "      <th>Long</th>\n",
       "      <th>Magnitude</th>\n",
       "      <th>Epicenter</th>\n",
       "      <th>DateTime</th>\n",
       "    </tr>\n",
       "  </thead>\n",
       "  <tbody>\n",
       "    <tr>\n",
       "      <th>0</th>\n",
       "      <td>0</td>\n",
       "      <td>9</td>\n",
       "      <td>27.75</td>\n",
       "      <td>86.16</td>\n",
       "      <td>5.1</td>\n",
       "      <td>Dolakha</td>\n",
       "      <td>1994-06-25 05:45:00</td>\n",
       "    </tr>\n",
       "    <tr>\n",
       "      <th>1</th>\n",
       "      <td>1</td>\n",
       "      <td>8</td>\n",
       "      <td>29.37</td>\n",
       "      <td>81.52</td>\n",
       "      <td>5.5</td>\n",
       "      <td>Bajura</td>\n",
       "      <td>1994-07-17 11:00:00</td>\n",
       "    </tr>\n",
       "    <tr>\n",
       "      <th>2</th>\n",
       "      <td>3</td>\n",
       "      <td>6</td>\n",
       "      <td>28.34</td>\n",
       "      <td>87.35</td>\n",
       "      <td>4.8</td>\n",
       "      <td>Sankhuwasabha</td>\n",
       "      <td>1994-09-25 11:00:00</td>\n",
       "    </tr>\n",
       "    <tr>\n",
       "      <th>3</th>\n",
       "      <td>4</td>\n",
       "      <td>5</td>\n",
       "      <td>29.00</td>\n",
       "      <td>82.26</td>\n",
       "      <td>4.6</td>\n",
       "      <td>Jajarkot</td>\n",
       "      <td>1994-10-22 11:00:00</td>\n",
       "    </tr>\n",
       "    <tr>\n",
       "      <th>4</th>\n",
       "      <td>5</td>\n",
       "      <td>4</td>\n",
       "      <td>28.92</td>\n",
       "      <td>82.00</td>\n",
       "      <td>4.7</td>\n",
       "      <td>Jajarkot</td>\n",
       "      <td>1994-10-24 11:00:00</td>\n",
       "    </tr>\n",
       "  </tbody>\n",
       "</table>\n",
       "</div>"
      ],
      "text/plain": [
       "   Unnamed: 0  index    Lat   Long  Magnitude      Epicenter  \\\n",
       "0           0      9  27.75  86.16        5.1        Dolakha   \n",
       "1           1      8  29.37  81.52        5.5         Bajura   \n",
       "2           3      6  28.34  87.35        4.8  Sankhuwasabha   \n",
       "3           4      5  29.00  82.26        4.6       Jajarkot   \n",
       "4           5      4  28.92  82.00        4.7       Jajarkot   \n",
       "\n",
       "              DateTime  \n",
       "0  1994-06-25 05:45:00  \n",
       "1  1994-07-17 11:00:00  \n",
       "2  1994-09-25 11:00:00  \n",
       "3  1994-10-22 11:00:00  \n",
       "4  1994-10-24 11:00:00  "
      ]
     },
     "execution_count": 78,
     "metadata": {},
     "output_type": "execute_result"
    }
   ],
   "source": [
    "df.head()"
   ]
  },
  {
   "cell_type": "code",
   "execution_count": 79,
   "metadata": {},
   "outputs": [
    {
     "data": {
      "text/html": [
       "<div>\n",
       "<style scoped>\n",
       "    .dataframe tbody tr th:only-of-type {\n",
       "        vertical-align: middle;\n",
       "    }\n",
       "\n",
       "    .dataframe tbody tr th {\n",
       "        vertical-align: top;\n",
       "    }\n",
       "\n",
       "    .dataframe thead th {\n",
       "        text-align: right;\n",
       "    }\n",
       "</style>\n",
       "<table border=\"1\" class=\"dataframe\">\n",
       "  <thead>\n",
       "    <tr style=\"text-align: right;\">\n",
       "      <th></th>\n",
       "      <th>Unnamed: 0</th>\n",
       "      <th>index</th>\n",
       "      <th>Lat</th>\n",
       "      <th>Long</th>\n",
       "      <th>Magnitude</th>\n",
       "    </tr>\n",
       "  </thead>\n",
       "  <tbody>\n",
       "    <tr>\n",
       "      <th>count</th>\n",
       "      <td>975.000000</td>\n",
       "      <td>975.000000</td>\n",
       "      <td>975.000000</td>\n",
       "      <td>975.000000</td>\n",
       "      <td>975.000000</td>\n",
       "    </tr>\n",
       "    <tr>\n",
       "      <th>mean</th>\n",
       "      <td>510.373333</td>\n",
       "      <td>508.933333</td>\n",
       "      <td>28.154581</td>\n",
       "      <td>84.907997</td>\n",
       "      <td>4.433026</td>\n",
       "    </tr>\n",
       "    <tr>\n",
       "      <th>std</th>\n",
       "      <td>289.518481</td>\n",
       "      <td>289.121971</td>\n",
       "      <td>0.749923</td>\n",
       "      <td>1.910219</td>\n",
       "      <td>0.450686</td>\n",
       "    </tr>\n",
       "    <tr>\n",
       "      <th>min</th>\n",
       "      <td>0.000000</td>\n",
       "      <td>0.000000</td>\n",
       "      <td>26.630000</td>\n",
       "      <td>80.370000</td>\n",
       "      <td>3.600000</td>\n",
       "    </tr>\n",
       "    <tr>\n",
       "      <th>25%</th>\n",
       "      <td>259.500000</td>\n",
       "      <td>260.500000</td>\n",
       "      <td>27.710000</td>\n",
       "      <td>83.970000</td>\n",
       "      <td>4.100000</td>\n",
       "    </tr>\n",
       "    <tr>\n",
       "      <th>50%</th>\n",
       "      <td>513.000000</td>\n",
       "      <td>510.000000</td>\n",
       "      <td>27.900000</td>\n",
       "      <td>85.530000</td>\n",
       "      <td>4.300000</td>\n",
       "    </tr>\n",
       "    <tr>\n",
       "      <th>75%</th>\n",
       "      <td>761.500000</td>\n",
       "      <td>757.500000</td>\n",
       "      <td>28.300000</td>\n",
       "      <td>86.120000</td>\n",
       "      <td>4.600000</td>\n",
       "    </tr>\n",
       "    <tr>\n",
       "      <th>max</th>\n",
       "      <td>1007.000000</td>\n",
       "      <td>1007.000000</td>\n",
       "      <td>30.370000</td>\n",
       "      <td>88.330000</td>\n",
       "      <td>7.600000</td>\n",
       "    </tr>\n",
       "  </tbody>\n",
       "</table>\n",
       "</div>"
      ],
      "text/plain": [
       "        Unnamed: 0        index         Lat        Long   Magnitude\n",
       "count   975.000000   975.000000  975.000000  975.000000  975.000000\n",
       "mean    510.373333   508.933333   28.154581   84.907997    4.433026\n",
       "std     289.518481   289.121971    0.749923    1.910219    0.450686\n",
       "min       0.000000     0.000000   26.630000   80.370000    3.600000\n",
       "25%     259.500000   260.500000   27.710000   83.970000    4.100000\n",
       "50%     513.000000   510.000000   27.900000   85.530000    4.300000\n",
       "75%     761.500000   757.500000   28.300000   86.120000    4.600000\n",
       "max    1007.000000  1007.000000   30.370000   88.330000    7.600000"
      ]
     },
     "execution_count": 79,
     "metadata": {},
     "output_type": "execute_result"
    }
   ],
   "source": [
    "df.describe()"
   ]
  },
  {
   "cell_type": "code",
   "execution_count": 80,
   "metadata": {},
   "outputs": [
    {
     "data": {
      "image/png": "[encoded data removed]",
      "text/plain": [
       "<Figure size 720x720 with 1 Axes>"
      ]
     },
     "metadata": {
      "needs_background": "light"
     },
     "output_type": "display_data"
    }
   ],
   "source": [
    "plt.figure(figsize=(10,10))\n",
    "sns.scatterplot(y=\"Magnitude\", x=df.Magnitude.index , data=df)\n",
    "plt.annotate('Gorkha,2015', xy=(389, 7.5), xytext=(385, 7.25),arrowprops=dict(facecolor='black', shrink=0.01),)\n",
    "plt.annotate('Gorkha,2015', xy=(390, 6.5), xytext=(350, 6.0),arrowprops=dict(facecolor='black', shrink=0.01),)\n",
    "plt.annotate('Dolkha, 2015', xy=(443, 6.84), xytext=(445, 6.3),arrowprops=dict(facecolor='black', shrink=0.01),)\n",
    "plt.annotate('Dolkha, 2015', xy=(540, 6.74), xytext=(541, 6.5),arrowprops=dict(facecolor='black', shrink=0.01),)\n",
    "plt.annotate('Taplejung-Sikkim border, 2011', xy=(282, 6.74), xytext=(100, 6.6),arrowprops=dict(facecolor='black', shrink=0.01),)\n",
    "plt.savefig('overall_earthquakes.png')"
   ]
  },
  {
   "cell_type": "code",
   "execution_count": 81,
   "metadata": {},
   "outputs": [],
   "source": [
    "#group by magnitude counts\n",
    "df_magnitude_count = pd.DataFrame(df.Magnitude.groupby(df.Magnitude).count())\n",
    "df_magnitude_count['index'] = df_magnitude_count.index\n",
    "df_magnitude_count.columns = [\"Count\",\"Magnitude\"]"
   ]
  },
  {
   "cell_type": "code",
   "execution_count": 82,
   "metadata": {},
   "outputs": [
    {
     "data": {
      "image/png": "[encoded data removed]",
      "text/plain": [
       "<Figure size 1152x360 with 1 Axes>"
      ]
     },
     "metadata": {
      "needs_background": "light"
     },
     "output_type": "display_data"
    }
   ],
   "source": [
    "plt.figure(figsize=(16,5))\n",
    "ax = sns.barplot(x=\"Magnitude\", y=\"Count\", data=df_magnitude_count)\n",
    "ax.set_xticklabels(ax.get_xticklabels(),rotation=45)\n",
    "plt.savefig('magnitude_count.png')"
   ]
  },
  {
   "cell_type": "markdown",
   "metadata": {},
   "source": [
    "## Earthquake magnitude classes"
   ]
  },
  {
   "cell_type": "code",
   "execution_count": 83,
   "metadata": {},
   "outputs": [],
   "source": [
    "scale = []\n",
    "for magnitude in df.Magnitude:\n",
    "    if magnitude >= 3.0 and magnitude <=3.9:\n",
    "        scale.append(\"Limited Damage\")\n",
    "    elif magnitude >=4.0 and magnitude <=4.9:\n",
    "        scale.append(\"Minor Damage\")\n",
    "    elif magnitude >=5.0 and magnitude <=5.9:\n",
    "        scale.append(\"Slight Damage\")\n",
    "    elif magnitude >=6.0 and magnitude <=6.9:\n",
    "        scale.append(\"Severe Damage\")\n",
    "    elif magnitude >=7.0 and magnitude <=7.9:\n",
    "        scale.append(\"Serious Damage\")\n",
    "    else:\n",
    "        scale.append(\"Great Damage\")"
   ]
  },
  {
   "cell_type": "code",
   "execution_count": 84,
   "metadata": {},
   "outputs": [],
   "source": [
    "df['scale'] = scale"
   ]
  },
  {
   "cell_type": "code",
   "execution_count": 85,
   "metadata": {},
   "outputs": [],
   "source": [
    "df_damage_count = pd.DataFrame(df.scale.groupby(df.scale).count().sort_values(ascending=False))\n",
    "df_damage_count['percent'] = ((df_damage_count.scale)/sum(df_damage_count.scale))*100"
   ]
  },
  {
   "cell_type": "code",
   "execution_count": 86,
   "metadata": {},
   "outputs": [
    {
     "data": {
      "text/plain": [
       "Text(0.5, 0, 'Magnitude class')"
      ]
     },
     "execution_count": 86,
     "metadata": {},
     "output_type": "execute_result"
    },
    {
     "data": {
      "image/png": "[encoded data removed]",
      "text/plain": [
       "<Figure size 720x576 with 1 Axes>"
      ]
     },
     "metadata": {
      "needs_background": "light"
     },
     "output_type": "display_data"
    }
   ],
   "source": [
    "plt.figure(figsize=(10,8))\n",
    "sns.barplot(df_damage_count.index,df_damage_count.percent, palette=\"pastel\")\n",
    "# plt.xticks(df_damage_count.index, rotation= 10)\n",
    "plt.ylabel('Percent')\n",
    "plt.xlabel('Magnitude class', fontsize=24)"
   ]
  },
  {
   "cell_type": "markdown",
   "metadata": {},
   "source": [
    "**Magnitude class size: \"Great\", \"Major\", \"Strong\", \"Moderate\", \"Light\", \"Minor\", \"Less than 3.9\")**"
   ]
  },
  {
   "cell_type": "code",
   "execution_count": 87,
   "metadata": {},
   "outputs": [],
   "source": [
    "#array for storing the size_class\n",
    "size_class = []\n",
    "\n",
    "for magnitude in df.Magnitude:\n",
    "    if magnitude >= 3.0 and magnitude <=3.9:\n",
    "        size_class.append(\"Minor\")\n",
    "    elif magnitude >=4.0 and magnitude <=4.9:\n",
    "        size_class.append(\"Light\")\n",
    "    elif magnitude >=5.0 and magnitude <=5.9:\n",
    "        size_class.append(\"Moderate\")\n",
    "    elif magnitude >=6.0 and magnitude <=6.9:\n",
    "        size_class.append(\"Strong\")\n",
    "    elif magnitude >=7.0 and magnitude <=7.9:\n",
    "        size_class.append(\"Major\")\n",
    "    else:\n",
    "        size_class.append(\"Great\")\n",
    "\n",
    "#Creating a column in the dataframe called size\\_class\n",
    "df['size_class'] = size_class"
   ]
  },
  {
   "cell_type": "code",
   "execution_count": 88,
   "metadata": {},
   "outputs": [],
   "source": [
    "df_size_class = pd.DataFrame(df.size_class.groupby(df.size_class).count())\n",
    "df_size_class['percent'] = ((df_size_class.size_class)/sum(df_size_class.size_class))*100"
   ]
  },
  {
   "cell_type": "code",
   "execution_count": 89,
   "metadata": {},
   "outputs": [
    {
     "data": {
      "image/png": "[encoded data removed]",
      "text/plain": [
       "<Figure size 720x576 with 1 Axes>"
      ]
     },
     "metadata": {
      "needs_background": "light"
     },
     "output_type": "display_data"
    }
   ],
   "source": [
    "plt.figure(figsize=(10,8))\n",
    "sns.barplot(df_size_class.index,df_size_class.percent, palette=\"Set1\", order = ['Minor','Light','Moderate',\n",
    "                                                                                     'Major',\n",
    "                                                                                    'Strong'])\n",
    "plt.ylabel('Percentage')\n",
    "plt.xlabel('Earthquake Magnitude Classes', fontsize=12)\n",
    "plt.savefig('magnitude_classes.png')"
   ]
  },
  {
   "cell_type": "code",
   "execution_count": 90,
   "metadata": {},
   "outputs": [],
   "source": [
    "mag_class = []\n",
    "for magnitude in df.Magnitude:\n",
    "    if magnitude >= 3.0 and magnitude <=3.9:\n",
    "        mag_class.append(\"3-3.9\")\n",
    "    elif magnitude >=4.0 and magnitude <=4.9:\n",
    "        mag_class.append(\"4-4.9\")\n",
    "    elif magnitude >=5.0 and magnitude <=5.9:\n",
    "        mag_class.append(\"5-5.9\")\n",
    "    elif magnitude >=6.0 and magnitude <=6.9:\n",
    "        mag_class.append(\"6-6.9\")\n",
    "    elif magnitude >=7.0 and magnitude <=7.9:\n",
    "        mag_class.append(\"7-7.9\")\n",
    "    else:\n",
    "        mag_class.append(\"Above 8\")\n",
    "df['mag_class'] = mag_class"
   ]
  },
  {
   "cell_type": "code",
   "execution_count": 91,
   "metadata": {},
   "outputs": [],
   "source": [
    "df['DateTime'] = pd.to_datetime(df['DateTime'], errors='coerce')\n",
    "group_by_year = pd.DataFrame(df.Magnitude.groupby([df['DateTime'].dt.year]).count())\n",
    "group_by_year.columns = ['Frequency']"
   ]
  },
  {
   "cell_type": "code",
   "execution_count": 92,
   "metadata": {},
   "outputs": [
    {
     "data": {
      "image/png": "[encoded data removed]",
      "text/plain": [
       "<Figure size 1080x720 with 1 Axes>"
      ]
     },
     "metadata": {
      "needs_background": "light"
     },
     "output_type": "display_data"
    }
   ],
   "source": [
    "plt.figure(figsize=(15,10))\n",
    "by_year = sns.barplot(x=group_by_year.index, y=group_by_year.Frequency)\n",
    "by_year.set_xticklabels(by_year.get_xticklabels(),rotation=45)\n",
    "plt.savefig('yearly_eq.png')"
   ]
  },
  {
   "cell_type": "code",
   "execution_count": 93,
   "metadata": {
    "scrolled": false
   },
   "outputs": [
    {
     "name": "stdout",
     "output_type": "stream",
     "text": [
      "     HRRP_DNAME   HRRP_DCODE HRRP_ZCODE   HRRP_ZNAME HRRP_RCODE  \\\n",
      "0  Arghakhanchi  524 3 08 51   524 3 08      Lumbini      524 3   \n",
      "1       Baglung  524 3 09 45   524 3 09  Dhawalagiri      524 3   \n",
      "2     Bhaktapur  524 2 05 26   524 2 05      Bagmati      524 2   \n",
      "3       Bhojpur  524 1 02 10   524 1 02        Koshi      524 1   \n",
      "4      Chitawan  524 2 06 35   524 2 06     Narayani      524 2   \n",
      "\n",
      "            HRRP_RNAME                                           geometry  \n",
      "0  Western Dev. Region  POLYGON ((83.00439363305975 28.1120631440989, ...  \n",
      "1  Western Dev. Region  POLYGON ((83.09955723807616 28.63460031185497,...  \n",
      "2  Central Dev. Region  POLYGON ((85.52040222058605 27.72830410964701,...  \n",
      "3  Eastern Dev. Region  POLYGON ((87.10963472086576 27.46235696919882,...  \n",
      "4  Central Dev. Region  POLYGON ((84.62017539178095 27.88065355132039,...  \n"
     ]
    }
   ],
   "source": [
    "service_district = gpd.read_file('NPL_adm3/31Adist_polbnda_adm3_MoFALD_HRRP_wgs84.shp')\n",
    "print(service_district.head())\n",
    "\n",
    "# Print the contents of the service districts geometry in the first row\n",
    "# print(service_district.loc[0, 'geometry'])"
   ]
  },
  {
   "cell_type": "code",
   "execution_count": 94,
   "metadata": {},
   "outputs": [
    {
     "data": {
      "image/png": "[encoded data removed]",
      "text/plain": [
       "<Figure size 432x288 with 1 Axes>"
      ]
     },
     "metadata": {
      "needs_background": "light"
     },
     "output_type": "display_data"
    }
   ],
   "source": [
    "service_district.plot(column = 'HRRP_DNAME')\n",
    "sns.scatterplot(x=df.Long, y=df.Lat, hue = df['scale'], size_order=100)\n",
    "plt.legend(bbox_to_anchor=(0.7,1), loc=2, borderaxespad=0.1)\n",
    "plt.axis('off')\n",
    "plt.annotate('NSC Nepal, 2019',xy=(0.1, 0),  xycoords='figure fraction',\n",
    "            horizontalalignment='left', verticalalignment='top', fontsize=12, color='#555555')\n",
    "plt.savefig(\"map_export.png\", dpi=300)"
   ]
  },
  {
   "cell_type": "code",
   "execution_count": null,
   "metadata": {},
   "outputs": [],
   "source": []
  }
 ],
 "metadata": {
  "kernelspec": {
   "display_name": "Python 3",
   "language": "python",
   "name": "python3"
  },
  "language_info": {
   "codemirror_mode": {
    "name": "ipython",
    "version": 3
   },
   "file_extension": ".py",
   "mimetype": "text/x-python",
   "name": "python",
   "nbconvert_exporter": "python",
   "pygments_lexer": "ipython3",
   "version": "3.7.3"
  }
 },
 "nbformat": 4,
 "nbformat_minor": 2
}
