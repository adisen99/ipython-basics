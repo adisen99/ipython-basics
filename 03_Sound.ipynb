{
 "cells": [
  {
   "cell_type": "markdown",
   "metadata": {},
   "source": [
    "# Playing with Sound (.wav files) with OpenCV, numpy and matplotlib\n",
    "\n",
    "#### Also the introduction to the use of IPython Display and ipywidgets"
   ]
  },
  {
   "cell_type": "code",
   "execution_count": null,
   "metadata": {},
   "outputs": [],
   "source": [
    "import numpy as np\n",
    "import cv2 as cv\n",
    "import matplotlib.pyplot as plt\n",
    "plt.rcParams['figure.figsize'] = [8, 8]"
   ]
  },
  {
   "cell_type": "code",
   "execution_count": null,
   "metadata": {},
   "outputs": [],
   "source": [
    "from scipy.io import wavfile as wf"
   ]
  },
  {
   "cell_type": "code",
   "execution_count": null,
   "metadata": {},
   "outputs": [],
   "source": [
    "import soundfile as sf # to convert the 24 bit-depth wav file to 16 or 32 bit-depth wav file but not necessary here"
   ]
  },
  {
   "cell_type": "code",
   "execution_count": null,
   "metadata": {},
   "outputs": [],
   "source": [
    "sample_rate, data = wf.read('flute.wav')\n",
    "plt.plot(data);"
   ]
  },
  {
   "cell_type": "code",
   "execution_count": null,
   "metadata": {},
   "outputs": [],
   "source": [
    "import IPython.display as ipd\n",
    "ushort_max = len(data)\n",
    "print(ushort_max)\n",
    "ipd.Audio(data = data, rate = sample_rate)"
   ]
  },
  {
   "cell_type": "markdown",
   "metadata": {},
   "source": [
    "### More on IPython Display-\n",
    "Class Representation is normally done using the `__repr__()` method"
   ]
  },
  {
   "cell_type": "code",
   "execution_count": null,
   "metadata": {},
   "outputs": [],
   "source": [
    "x = [1,2,3,4]\n",
    "x.__repr__()"
   ]
  },
  {
   "cell_type": "code",
   "execution_count": null,
   "metadata": {},
   "outputs": [],
   "source": [
    "x"
   ]
  },
  {
   "cell_type": "markdown",
   "metadata": {},
   "source": [
    "But in Jupyter there is the `_repr_html_()` method. We can apply it a user defined custom class as well."
   ]
  },
  {
   "cell_type": "code",
   "execution_count": null,
   "metadata": {},
   "outputs": [],
   "source": [
    "# THe following code gives a customised html output to a user defined list using the concept of classes and objects.\n",
    "\n",
    "class MyList(object):\n",
    "    \n",
    "    def __init__(self, items):\n",
    "        self.items = items\n",
    "        \n",
    "    def _repr_html_(self):\n",
    "        out = \"<ul style = 'background: #e0e0ff; margin: 2em; border: 1px solid gray; padding: 25px'>\"\n",
    "        for i, v in enumerate(self.items):\n",
    "            out += \"<li><i> Item {}:</i> {}</li>\".format(i, str(v))\n",
    "        out += \"</ul>\"\n",
    "        return out"
   ]
  },
  {
   "cell_type": "code",
   "execution_count": null,
   "metadata": {},
   "outputs": [],
   "source": [
    "x = MyList([\"Apple\", \"Apple\", \"Samsung\", \"Orange\", \"OnePlus\"])\n",
    "x "
   ]
  },
  {
   "cell_type": "code",
   "execution_count": null,
   "metadata": {},
   "outputs": [],
   "source": [
    "squeakydata = data[::2]\n",
    "ipd.Audio(data = squeakydata, rate = sample_rate)"
   ]
  },
  {
   "cell_type": "code",
   "execution_count": null,
   "metadata": {},
   "outputs": [],
   "source": [
    "slowdata = np.interp(\n",
    "    x = np.arange(0, len(data), 0.67),\n",
    "    xp = np.arange(len(data)),\n",
    "    fp = data\n",
    ")\n",
    "ipd.Audio(data = slowdata, rate = sample_rate)"
   ]
  },
  {
   "cell_type": "markdown",
   "metadata": {},
   "source": [
    "### Making a Chorus"
   ]
  },
  {
   "cell_type": "code",
   "execution_count": null,
   "metadata": {},
   "outputs": [],
   "source": [
    "import random\n",
    "\n",
    "def make_chorus(data, chorus_size, max_offset, speed_min, speed_max):\n",
    "    chorus = np.zeros(int(len(data) / speed_min) + max_offset)\n",
    "    for i in range(chorus_size):\n",
    "        offset = random.randint(0, max_offset)\n",
    "        speed = random.uniform(speed_min, speed_max)\n",
    "        new_length = int(len(data) / speed)\n",
    "        sample = np.interp(\n",
    "        x  = np.linspace(0, len(data), num = new_length),\n",
    "        xp = np.arange(len(data)),\n",
    "        fp = data\n",
    "        )\n",
    "        chorus[offset: (offset+new_length)] += sample\n",
    "                        \n",
    "    return chorus\n",
    "\n",
    "chorus = make_chorus(data, chorus_size = 4, max_offset = 7000, speed_min = 0.9, speed_max = 1.1)\n",
    "\n",
    "ipd.Audio(data = chorus, rate = sample_rate)"
   ]
  },
  {
   "cell_type": "markdown",
   "metadata": {},
   "source": [
    "### Interactive interface in Jupyter Notebooks.\n",
    "\n",
    "We can tweak the parameters to our liking using the tool ipywidgets library in iPython."
   ]
  },
  {
   "cell_type": "code",
   "execution_count": null,
   "metadata": {},
   "outputs": [],
   "source": [
    "import ipywidgets as widgets\n",
    "w = widgets.IntSlider(min=0, max=20)\n",
    "w # An example of using an interactive slider in iPython"
   ]
  },
  {
   "cell_type": "code",
   "execution_count": null,
   "metadata": {},
   "outputs": [],
   "source": [
    "w.value"
   ]
  },
  {
   "cell_type": "code",
   "execution_count": null,
   "metadata": {},
   "outputs": [],
   "source": [
    "from IPython.display import display\n",
    "\n",
    "chorus_size = widgets.IntSlider(\n",
    "    value=4,\n",
    "    min=0, max=20,\n",
    "    step=1,\n",
    "    description='Chorus Size',\n",
    "    readout=True,\n",
    "    readout_format='d',\n",
    "#     style={'description_width':'30%'},\n",
    "#     layout={'width':'80%'}\n",
    ")\n",
    "display(chorus_size)\n",
    "\n",
    "max_offset = widgets.IntSlider(\n",
    "    value=4000,\n",
    "    min=0, max=20000,\n",
    "    step=1000,\n",
    "    description='Max. Offset (samples)',\n",
    "    readout=True,\n",
    "    readout_format='d',\n",
    "#     style={'description_width':'30%'},\n",
    "#     layout={'width':'80%'}\n",
    ")\n",
    "display(max_offset)\n",
    "\n",
    "speed_min = widgets.FloatSlider(\n",
    "    value=0.9,\n",
    "    min=0, max=2.0,\n",
    "    step=0.1,\n",
    "    description='Min. Speed',\n",
    "    readout=True,\n",
    "    readout_format='.1f',\n",
    "    style={'description_width':'30%'},\n",
    "    layout={'width':'80%'}\n",
    ")\n",
    "display(speed_min)\n",
    "\n",
    "speed_max = widgets.FloatSlider(\n",
    "    value=1.2,\n",
    "    min=0, max=2.0,\n",
    "    step=0.1,\n",
    "    description='Min. Speed',\n",
    "    readout=True,\n",
    "    readout_format='.1f',\n",
    "    style={'description_width':'30%'},\n",
    "    layout={'width':'80%'}\n",
    ")\n",
    "display(speed_max)\n",
    "\n",
    "def new_chorus(change):\n",
    "    chorus = make_chorus(\n",
    "    data,\n",
    "    chorus_size = chorus_size.value,\n",
    "    max_offset = max_offset.value,\n",
    "    speed_min = speed_min.value,\n",
    "    speed_max = speed_max.value\n",
    "    )\n",
    "    plt.plot(chorus)\n",
    "    plt.show()\n",
    "    display(\n",
    "        ipd.Audio(\n",
    "            data = chorus,\n",
    "            rate = sample_rate\n",
    "        )\n",
    "    )\n",
    "    \n",
    "go_but = widgets.Button(description = 'Generate', layout={'width': '80%'})\n",
    "go_but.on_click(new_chorus)\n",
    "ipd.display(go_but)"
   ]
  },
  {
   "cell_type": "markdown",
   "metadata": {},
   "source": []
  }
 ],
 "metadata": {
  "kernelspec": {
   "display_name": "Python 3",
   "language": "python",
   "name": "python3"
  },
  "language_info": {
   "codemirror_mode": {
    "name": "ipython",
    "version": 3
   },
   "file_extension": ".py",
   "mimetype": "text/x-python",
   "name": "python",
   "nbconvert_exporter": "python",
   "pygments_lexer": "ipython3",
   "version": "3.7.3"
  }
 },
 "nbformat": 4,
 "nbformat_minor": 2
}
