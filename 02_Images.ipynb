{
 "cells": [
  {
   "cell_type": "markdown",
   "metadata": {},
   "source": [
    "# Playing with Images using [OpenCV](https://opencv.org/), MatPlotLib and Numpy"
   ]
  },
  {
   "cell_type": "code",
   "execution_count": null,
   "metadata": {},
   "outputs": [],
   "source": [
    "import numpy as np\n",
    "import cv2 as cv\n",
    "import matplotlib.pyplot as plt\n",
    "\n",
    "# making the figure size larger than the default size:\n",
    "plt.rcParams['figure.figsize'] = [12,12]"
   ]
  },
  {
   "cell_type": "code",
   "execution_count": null,
   "metadata": {},
   "outputs": [],
   "source": [
    "!ls *.jpg"
   ]
  },
  {
   "cell_type": "code",
   "execution_count": null,
   "metadata": {},
   "outputs": [],
   "source": [
    "img_bgr = cv.imread('forrest.jpg')\n",
    "\n",
    "img = cv.cvtColor(img_bgr, cv.COLOR_BGR2RGB)\n",
    "\n",
    "plt.imshow(img)\n",
    "plt.title('Forrest Image');"
   ]
  },
  {
   "cell_type": "code",
   "execution_count": null,
   "metadata": {
    "scrolled": true
   },
   "outputs": [],
   "source": [
    "img"
   ]
  },
  {
   "cell_type": "code",
   "execution_count": null,
   "metadata": {},
   "outputs": [],
   "source": [
    "img.shape"
   ]
  },
  {
   "cell_type": "code",
   "execution_count": null,
   "metadata": {
    "scrolled": false
   },
   "outputs": [],
   "source": [
    "plt.imshow(img_bgr[:,:,::-1]); # gives the same result"
   ]
  },
  {
   "cell_type": "code",
   "execution_count": null,
   "metadata": {},
   "outputs": [],
   "source": [
    "corner = img[-1000:,:1000]\n",
    "plt.imshow(corner);"
   ]
  },
  {
   "cell_type": "code",
   "execution_count": null,
   "metadata": {},
   "outputs": [],
   "source": [
    "img.dtype"
   ]
  },
  {
   "cell_type": "code",
   "execution_count": null,
   "metadata": {},
   "outputs": [],
   "source": [
    "img.itemsize"
   ]
  },
  {
   "cell_type": "code",
   "execution_count": null,
   "metadata": {},
   "outputs": [],
   "source": [
    "img.shape"
   ]
  },
  {
   "cell_type": "code",
   "execution_count": null,
   "metadata": {},
   "outputs": [],
   "source": [
    "img.strides"
   ]
  },
  {
   "cell_type": "code",
   "execution_count": null,
   "metadata": {},
   "outputs": [],
   "source": [
    "corner.shape"
   ]
  },
  {
   "cell_type": "code",
   "execution_count": null,
   "metadata": {},
   "outputs": [],
   "source": [
    "corner.strides # Notice that the corner has the same strides because we are essentially using the same image data"
   ]
  },
  {
   "cell_type": "code",
   "execution_count": null,
   "metadata": {},
   "outputs": [],
   "source": [
    "corner.flags.owndata"
   ]
  },
  {
   "cell_type": "code",
   "execution_count": null,
   "metadata": {},
   "outputs": [],
   "source": [
    "img.flags.owndata"
   ]
  },
  {
   "cell_type": "markdown",
   "metadata": {},
   "source": [
    "## Transposing\n",
    "\n",
    "Image arrays have a property T which is their transpose"
   ]
  },
  {
   "cell_type": "code",
   "execution_count": null,
   "metadata": {},
   "outputs": [],
   "source": [
    "reds = img[:,:,0]\n",
    "\n",
    "print(reds.shape)\n",
    "print(reds.T.shape)"
   ]
  },
  {
   "cell_type": "code",
   "execution_count": null,
   "metadata": {},
   "outputs": [],
   "source": [
    "reds.dtype"
   ]
  },
  {
   "cell_type": "code",
   "execution_count": null,
   "metadata": {},
   "outputs": [],
   "source": [
    "plt.imshow(reds, cmap='gray');"
   ]
  },
  {
   "cell_type": "code",
   "execution_count": null,
   "metadata": {},
   "outputs": [],
   "source": [
    "plt.imshow(reds.T, cmap='gray');"
   ]
  },
  {
   "cell_type": "code",
   "execution_count": null,
   "metadata": {},
   "outputs": [],
   "source": [
    "reds.strides"
   ]
  },
  {
   "cell_type": "code",
   "execution_count": null,
   "metadata": {},
   "outputs": [],
   "source": [
    "reds.T.strides"
   ]
  },
  {
   "cell_type": "code",
   "execution_count": null,
   "metadata": {},
   "outputs": [],
   "source": [
    "squished = reds[:,::3]\n",
    "plt.imshow(squished, cmap='gray');"
   ]
  },
  {
   "cell_type": "code",
   "execution_count": null,
   "metadata": {},
   "outputs": [],
   "source": [
    "squished.strides"
   ]
  },
  {
   "cell_type": "markdown",
   "metadata": {},
   "source": [
    "## Histogram equalisation"
   ]
  },
  {
   "cell_type": "code",
   "execution_count": null,
   "metadata": {
    "scrolled": false
   },
   "outputs": [],
   "source": [
    "gray_img = cv.cvtColor(img, cv.COLOR_RGB2GRAY)\n",
    "\n",
    "plt.imshow(gray_img, cmap='gray');"
   ]
  },
  {
   "cell_type": "code",
   "execution_count": null,
   "metadata": {
    "scrolled": true
   },
   "outputs": [],
   "source": [
    "hist, bins = np.histogram(gray_img, bins=256, range=[0,256])\n",
    "hist, bins"
   ]
  },
  {
   "cell_type": "code",
   "execution_count": null,
   "metadata": {
    "scrolled": true
   },
   "outputs": [],
   "source": [
    "cdf = hist.cumsum()\n",
    "cdf"
   ]
  },
  {
   "cell_type": "code",
   "execution_count": null,
   "metadata": {},
   "outputs": [],
   "source": [
    "fig, ax1 = plt.subplots()\n",
    "\n",
    "# plot the histograms using the normal y axis\n",
    "ax1.bar(bins[1:], hist, 1, color = 'r')\n",
    "ax1.tick_params(axis='y', labelcolor = 'r')\n",
    "\n",
    "# make a second y axis that shares the same x axis\n",
    "ax2 = ax1.twinx()\n",
    "ax2.tick_params(axis='y', labelcolor = 'b')\n",
    "# and that will plot the CDF\n",
    "ax2.plot(cdf, color= 'b')\n",
    "\n",
    "fig.tight_layout()\n",
    "fig.legend(('histogram', 'cdf'), loc = 'upper left');\n",
    "\n",
    "plt.show()"
   ]
  },
  {
   "cell_type": "markdown",
   "metadata": {},
   "source": [
    "## This is where equalisation comes in"
   ]
  },
  {
   "cell_type": "code",
   "execution_count": null,
   "metadata": {},
   "outputs": [],
   "source": [
    "equ_img = cv.equalizeHist(gray_img)"
   ]
  },
  {
   "cell_type": "code",
   "execution_count": null,
   "metadata": {},
   "outputs": [],
   "source": [
    "fig, axs = plt.subplots(1,2, figsize= (14,6))\n",
    "axs[0].imshow(gray_img, cmap='gray')\n",
    "axs[0].set_title('Original')\n",
    "\n",
    "axs[1].imshow(equ_img, cmap='gray')\n",
    "axs[1].set_title('equalised')\n",
    "\n",
    "plt.show()"
   ]
  },
  {
   "cell_type": "markdown",
   "metadata": {},
   "source": [
    "   #### Now we do some the same plot for the equalised image\n",
    "   \n",
    "   We see that the new image is more gritty but it's cdf is a straight line which means that the contrast is more balanced"
   ]
  },
  {
   "cell_type": "code",
   "execution_count": null,
   "metadata": {},
   "outputs": [],
   "source": [
    "hist, bins = np.histogram(equ_img, bins=256, range=[0,256])\n",
    "cdf = hist.cumsum()\n",
    "\n",
    "fig, ax1 = plt.subplots()\n",
    "\n",
    "# plot the histograms using the normal y axis\n",
    "ax1.bar(bins[1:], hist, 1, color = 'r')\n",
    "ax1.tick_params(axis='y', labelcolor = 'r')\n",
    "\n",
    "# make a second y axis that shares the same x axis\n",
    "ax2 = ax1.twinx()\n",
    "ax2.tick_params(axis='y', labelcolor = 'b')\n",
    "# and that will plot the CDF\n",
    "ax2.plot(cdf, color= 'b')\n",
    "\n",
    "fig.tight_layout()\n",
    "fig.legend(('histogram', 'cdf'), loc = 'upper left');\n",
    "\n",
    "plt.show()"
   ]
  },
  {
   "cell_type": "markdown",
   "metadata": {},
   "source": [
    "### If this is too grainy then we can make modifications to the image array"
   ]
  },
  {
   "cell_type": "code",
   "execution_count": null,
   "metadata": {
    "scrolled": false
   },
   "outputs": [],
   "source": [
    "for i in range(0,5):\n",
    "    mix = i / 4.0\n",
    "    blend = (equ_img * mix) + (gray_img * (1.0 - mix))\n",
    "    print(\"original:\", 1-mix, \"normalised\", mix)\n",
    "    plt.imshow(blend, cmap='gray')\n",
    "    plt.show()"
   ]
  },
  {
   "cell_type": "markdown",
   "metadata": {},
   "source": [
    "## We can convert this gray image back to the RGB image we started with now"
   ]
  },
  {
   "cell_type": "code",
   "execution_count": null,
   "metadata": {},
   "outputs": [],
   "source": [
    "h, w = gray_img.shape\n",
    "\n",
    "mono_img = np.zeros((h, w , 3), dtype=np.uint8)\n",
    "mono_img.shape"
   ]
  },
  {
   "cell_type": "code",
   "execution_count": null,
   "metadata": {},
   "outputs": [],
   "source": [
    "# An ellipses ... , means \"as many dimensions as you need\"\n",
    "\n",
    "mono_img[..., 0] = gray_img\n",
    "mono_img[..., 1] = gray_img\n",
    "mono_img[..., 2] = gray_img\n",
    "mono_img"
   ]
  },
  {
   "cell_type": "code",
   "execution_count": null,
   "metadata": {},
   "outputs": [],
   "source": [
    "plt.imshow(mono_img);"
   ]
  },
  {
   "cell_type": "markdown",
   "metadata": {},
   "source": [
    " This also works with broadcasting and it is much faster\n",
    " We can turn a 2D array into a 3D array by adding an extra axis"
   ]
  },
  {
   "cell_type": "code",
   "execution_count": null,
   "metadata": {},
   "outputs": [],
   "source": [
    "gray_img_3d = gray_img[..., np.newaxis]\n",
    "gray_img_3d.shape"
   ]
  },
  {
   "cell_type": "code",
   "execution_count": null,
   "metadata": {},
   "outputs": [],
   "source": [
    "mono_img = np.broadcast_to(gray_img_3d, (h, w, 3))\n",
    "mono_img"
   ]
  },
  {
   "cell_type": "code",
   "execution_count": null,
   "metadata": {},
   "outputs": [],
   "source": [
    "plt.imshow(mono_img);"
   ]
  },
  {
   "cell_type": "markdown",
   "metadata": {},
   "source": [
    " This above is a color image but it is just that all colors have the same value so we will change that"
   ]
  },
  {
   "cell_type": "code",
   "execution_count": null,
   "metadata": {},
   "outputs": [],
   "source": [
    "brightlights = np.where(mono_img < 40, img, [230, 230, 230])\n",
    "plt.imshow(brightlights);"
   ]
  },
  {
   "cell_type": "code",
   "execution_count": null,
   "metadata": {},
   "outputs": [],
   "source": [
    "greens = img[...,1]\n",
    "greenmask = (greens > 200)\n",
    "greenmask"
   ]
  },
  {
   "cell_type": "code",
   "execution_count": null,
   "metadata": {},
   "outputs": [],
   "source": [
    "plt.imshow(greenmask, cmap='gray');"
   ]
  },
  {
   "cell_type": "markdown",
   "metadata": {},
   "source": [
    "And now we use indexing"
   ]
  },
  {
   "cell_type": "code",
   "execution_count": null,
   "metadata": {},
   "outputs": [],
   "source": [
    "brightlights[greenmask] = [0, 255, 0]\n",
    "plt.imshow(brightlights);"
   ]
  },
  {
   "cell_type": "markdown",
   "metadata": {},
   "source": [
    "### The possibilities with MatPlotLib are endless. Check out these -  [~ examples ~](https://matplotlib.org/gallery/index.html)"
   ]
  },
  {
   "cell_type": "code",
   "execution_count": null,
   "metadata": {},
   "outputs": [],
   "source": []
  }
 ],
 "metadata": {
  "kernelspec": {
   "display_name": "Python 3",
   "language": "python",
   "name": "python3"
  },
  "language_info": {
   "codemirror_mode": {
    "name": "ipython",
    "version": 3
   },
   "file_extension": ".py",
   "mimetype": "text/x-python",
   "name": "python",
   "nbconvert_exporter": "python",
   "pygments_lexer": "ipython3",
   "version": "3.7.3"
  }
 },
 "nbformat": 4,
 "nbformat_minor": 2
}
